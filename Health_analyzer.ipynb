{
 "cells": [
  {
   "cell_type": "code",
   "execution_count": 53,
   "id": "500dcd60",
   "metadata": {},
   "outputs": [],
   "source": [
    "import nltk\n",
    "from nltk.corpus import stopwords\n",
    "from nltk.tokenize import word_tokenize\n",
    "import pandas as pd\n",
    "from sklearn.model_selection import train_test_split\n",
    "import re\n",
    "from nltk.stem import WordNetLemmatizer"
   ]
  },
  {
   "cell_type": "code",
   "execution_count": 54,
   "id": "830f8620-435f-4b42-9bf9-e7bc9f76c688",
   "metadata": {},
   "outputs": [
    {
     "name": "stderr",
     "output_type": "stream",
     "text": [
      "[nltk_data] Downloading package punkt to /Users/girasen/nltk_data...\n",
      "[nltk_data]   Package punkt is already up-to-date!\n",
      "[nltk_data] Downloading package stopwords to\n",
      "[nltk_data]     /Users/girasen/nltk_data...\n",
      "[nltk_data]   Package stopwords is already up-to-date!\n",
      "[nltk_data] Downloading package wordnet to /Users/girasen/nltk_data...\n",
      "[nltk_data]   Package wordnet is already up-to-date!\n",
      "[nltk_data] Downloading package omw-1.4 to /Users/girasen/nltk_data...\n",
      "[nltk_data]   Package omw-1.4 is already up-to-date!\n"
     ]
    },
    {
     "data": {
      "text/plain": [
       "True"
      ]
     },
     "execution_count": 54,
     "metadata": {},
     "output_type": "execute_result"
    }
   ],
   "source": [
    "nltk.download(\"punkt\")\n",
    "nltk.download(\"stopwords\")\n",
    "nltk.download(\"wordnet\")\n",
    "nltk.download(\"omw-1.4\")"
   ]
  },
  {
   "cell_type": "code",
   "execution_count": 80,
   "id": "87f731d9-d9b6-4d04-b36e-b9c7742d1641",
   "metadata": {},
   "outputs": [],
   "source": [
    "#Loading and splitting the dataset between train and test\n",
    "org_df=pd.read_csv('Mental_health.csv')\n",
    "org_df.head()\n",
    "data=org_df.dropna(how='all')\n",
    "data=data.dropna()\n",
    "data = data.dropna().reset_index(drop=True)\n",
    "# X=org_df['statement']\n",
    "# y=org_df['status']\n",
    "# X_train,X_test,y_train,y_test=train_test_split(X,y,test_size=0.2,random_state=40)\n",
    "# print(data.loc[2,0])"
   ]
  },
  {
   "cell_type": "code",
   "execution_count": 88,
   "id": "34901c08-0ac7-4da2-aa39-968671dff085",
   "metadata": {},
   "outputs": [],
   "source": [
    "#Preprocessing of the data\n",
    "wnl=WordNetLemmatizer()\n",
    "stop_words=set(stopwords.words('english'))\n",
    "for i in range(5):\n",
    "    data.loc[i,0]=re.sub(r'[^a-zA-Z\\s]','',data.loc[i,0].lower())\n",
    "    data.loc[i,0]=re.sub(r'\\s',' ',data.loc[i,0])\n",
    "    word_tokens=word_tokenize(str(data.loc[i,0]))\n",
    "    filtered_stop_words=[x for x in word_tokens if x not in stop_words]\n",
    "    lemmatized_words=[wnl.lemmatize(x,pos=\"v\") for x in filtered_stop_words]\n",
    "    data.loc[i,0]=' '.join(lemmatized_words)"
   ]
  },
  {
   "cell_type": "code",
   "execution_count": null,
   "id": "5798fc98-f209-4b72-adad-6e90a9adff0d",
   "metadata": {},
   "outputs": [],
   "source": []
  },
  {
   "cell_type": "code",
   "execution_count": null,
   "id": "5a6b3bc6-512e-438f-843e-16e63ea57094",
   "metadata": {},
   "outputs": [],
   "source": []
  }
 ],
 "metadata": {
  "kernelspec": {
   "display_name": "Python 3 (ipykernel)",
   "language": "python",
   "name": "python3"
  },
  "language_info": {
   "codemirror_mode": {
    "name": "ipython",
    "version": 3
   },
   "file_extension": ".py",
   "mimetype": "text/x-python",
   "name": "python",
   "nbconvert_exporter": "python",
   "pygments_lexer": "ipython3",
   "version": "3.13.3"
  }
 },
 "nbformat": 4,
 "nbformat_minor": 5
}
